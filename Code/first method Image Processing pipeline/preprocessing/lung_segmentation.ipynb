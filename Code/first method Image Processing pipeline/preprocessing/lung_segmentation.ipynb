{
 "cells": [
  {
   "cell_type": "markdown",
   "metadata": {},
   "source": [
    "# Lung Segmentation"
   ]
  },
  {
   "cell_type": "markdown",
   "metadata": {},
   "source": [
    "## Prepare environement"
   ]
  },
  {
   "cell_type": "code",
   "execution_count": 1,
   "metadata": {
    "colab": {
     "base_uri": "https://localhost:8080/"
    },
    "executionInfo": {
     "elapsed": 26018,
     "status": "ok",
     "timestamp": 1718048653181,
     "user": {
      "displayName": "Áron B. Gimesi",
      "userId": "03233526977624235264"
     },
     "user_tz": -120
    },
    "id": "7gqbwhTmJ3kf",
    "outputId": "5e44bf9f-20c0-459a-c3ef-845e36e7478f"
   },
   "outputs": [
    {
     "name": "stdout",
     "output_type": "stream",
     "text": [
      "Collecting SimpleITK\n",
      "  Downloading SimpleITK-2.3.1-cp310-cp310-manylinux_2_17_x86_64.manylinux2014_x86_64.whl (52.7 MB)\n",
      "\u001b[2K     \u001b[90m━━━━━━━━━━━━━━━━━━━━━━━━━━━━━━━━━━━━━━━━\u001b[0m \u001b[32m52.7/52.7 MB\u001b[0m \u001b[31m7.3 MB/s\u001b[0m eta \u001b[36m0:00:00\u001b[0m\n",
      "\u001b[?25hInstalling collected packages: SimpleITK\n",
      "Successfully installed SimpleITK-2.3.1\n"
     ]
    }
   ],
   "source": [
    "!pip install SimpleITK"
   ]
  },
  {
   "cell_type": "code",
   "execution_count": 2,
   "metadata": {
    "colab": {
     "base_uri": "https://localhost:8080/"
    },
    "executionInfo": {
     "elapsed": 22030,
     "status": "ok",
     "timestamp": 1718048675200,
     "user": {
      "displayName": "Áron B. Gimesi",
      "userId": "03233526977624235264"
     },
     "user_tz": -120
    },
    "id": "NDGdphpTKAA1",
    "outputId": "1fde45be-28dc-4835-f1a9-d98ae3bb0614"
   },
   "outputs": [
    {
     "name": "stdout",
     "output_type": "stream",
     "text": [
      "Mounted at /content/drive\n"
     ]
    }
   ],
   "source": [
    "from google.colab import drive\n",
    "drive.mount('/content/drive', force_remount=True)"
   ]
  },
  {
   "cell_type": "markdown",
   "metadata": {},
   "source": [
    "### Libraries"
   ]
  },
  {
   "cell_type": "code",
   "execution_count": null,
   "metadata": {
    "executionInfo": {
     "elapsed": 2238,
     "status": "ok",
     "timestamp": 1718048677429,
     "user": {
      "displayName": "Áron B. Gimesi",
      "userId": "03233526977624235264"
     },
     "user_tz": -120
    },
    "id": "CTYKOxXJKCKe"
   },
   "outputs": [],
   "source": [
    "import os\n",
    "import sys\n",
    "import inspect\n",
    "import numpy as np\n",
    "import pandas as pd\n",
    "import cv2 as cv\n",
    "import matplotlib.pyplot as plt\n",
    "\n",
    "import SimpleITK as sitk\n",
    "\n",
    "from google.colab.patches import cv2_imshow\n",
    "\n",
    "import ipywidgets as widgets\n",
    "from ipywidgets import interact, interact_manual\n",
    "\n",
    "from scipy.ndimage import center_of_mass\n",
    "from scipy.ndimage import binary_fill_holes, binary_closing, binary_dilation, binary_opening, binary_erosion\n",
    "from skimage import measure, morphology\n",
    "\n"
   ]
  },
  {
   "cell_type": "code",
   "execution_count": null,
   "metadata": {
    "colab": {
     "base_uri": "https://localhost:8080/"
    },
    "executionInfo": {
     "elapsed": 4350,
     "status": "ok",
     "timestamp": 1718048681772,
     "user": {
      "displayName": "Áron B. Gimesi",
      "userId": "03233526977624235264"
     },
     "user_tz": -120
    },
    "id": "QG8TG0Dt6ke-",
    "outputId": "4378b550-d0b6-4746-ca8e-26455aabc7cd"
   },
   "outputs": [
    {
     "name": "stdout",
     "output_type": "stream",
     "text": [
      "['annotations_by_uid', 'binarize_lung', 'binarize_lung_3d', 'binary_closing', 'binary_dilation', 'binary_erosion', 'binary_fill_holes', 'binary_opening', 'center_of_mass', 'clear_border', 'convert_annotation_df', 'convert_annotation_df_with_uid', 'create_3d_mask', 'create_annotations_mask', 'create_annotations_mask_by_uid', 'create_patch', 'debugger', 'draw_ellipsoid', 'find_by_uid', 'find_neighborhood_indices', 'find_neighborhood_indices_more_precise', 'get_slice_candidates', 'get_slice_candidates_old', 'get_slices', 'get_uids', 'img_by_uid', 'masked_annotations_by_uid', 'masked_annotations_with_info_by_uid', 'meta_by_uid', 'norm2float', 'norm2uint16', 'norm2uint8', 'normalize_intensity', 'plot_slices', 'process_slice_candidates', 'process_slices', 'remove_non_central_objects', 'sensitivity_score', 'sensitivity_score_more_precise', 'show_3_images', 'subset_by_uid', 'unwanted_object_filter']\n"
     ]
    }
   ],
   "source": [
    "path = \"/content/drive/Shareddrives/IA DL_project/ML IA/IMAGE_PROCESSING_PIPELINE\"\n",
    "\n",
    "if path not in sys.path:\n",
    "  sys.path.append(path)\n",
    "\n",
    "import luna_module\n",
    "from luna_module import *\n",
    "\n",
    "# List all function names in the luna_module\n",
    "function_names = [name for name, obj in inspect.getmembers(luna_module) if inspect.isfunction(obj)]\n",
    "print(function_names)"
   ]
  },
  {
   "cell_type": "markdown",
   "metadata": {},
   "source": [
    "### Functions"
   ]
  },
  {
   "cell_type": "code",
   "execution_count": null,
   "metadata": {
    "id": "0GuSc3o3KDvA"
   },
   "outputs": [],
   "source": [
    "def imshow(img):\n",
    "  return cv2_imshow(img)\n",
    "\n",
    "def debugger(img, title=None):\n",
    "    \"\"\"\n",
    "    Displays an image with its unique intensity values and an optional title.\n",
    "\n",
    "    Args:\n",
    "    img (numpy.ndarray): The image to be displayed, represented as a 2D array.\n",
    "    title (str, optional): The title to be printed above the image. Default is None.\n",
    "\n",
    "    Returns:\n",
    "    None\n",
    "    \"\"\"\n",
    "    if title is not None:\n",
    "        print(title)\n",
    "    print(np.unique(img))\n",
    "    plt.imshow(img, cmap=\"gray\")\n",
    "    plt.show()"
   ]
  },
  {
   "cell_type": "markdown",
   "metadata": {},
   "source": [
    "### Data paths"
   ]
  },
  {
   "cell_type": "code",
   "execution_count": null,
   "metadata": {
    "id": "PNHbaKssKKaR"
   },
   "outputs": [],
   "source": [
    "LUNA_PATH = os.path.join(os.getcwd(), \"drive\", \"Shareddrives\", \"IA DL_project\", \"ML IA\", \"LUNA16\")\n",
    "\n",
    "SUBSETS_PATH = os.path.join(LUNA_PATH, \"subsets\") # path for subsets folder\n",
    "SUBSETS = os.listdir(SUBSETS_PATH) # subset folders present\n",
    "SUBSET = \"subset0\"\n",
    "\n",
    "ANNOTATIONS_DF = pd.read_csv(os.path.join(LUNA_PATH, f\"{SUBSET}_annotations_expanded.csv\"), index_col=\"Unnamed: 0\")"
   ]
  },
  {
   "cell_type": "markdown",
   "metadata": {
    "id": "yzMI6lWVKNxd"
   },
   "source": [
    "______________\n",
    "## Image loading"
   ]
  },
  {
   "cell_type": "code",
   "execution_count": null,
   "metadata": {
    "id": "ZS75yDgAKLj4"
   },
   "outputs": [],
   "source": [
    "image_dict = {}"
   ]
  },
  {
   "cell_type": "code",
   "execution_count": null,
   "metadata": {
    "colab": {
     "base_uri": "https://localhost:8080/"
    },
    "executionInfo": {
     "elapsed": 68151,
     "status": "ok",
     "timestamp": 1718016325026,
     "user": {
      "displayName": "Áron B. Gimesi",
      "userId": "03233526977624235264"
     },
     "user_tz": -120
    },
    "id": "XYnpmk7fKO0g",
    "outputId": "7f9152fc-a539-4e4f-b790-ea1c0108365b"
   },
   "outputs": [
    {
     "name": "stdout",
     "output_type": "stream",
     "text": [
      "[SKIP] - no annotations for 1.3.6.1.4.1.14519.5.2.1.6279.6001.105756658031515062000744821260\n",
      "[START] -- READING IN: subset0/1.3.6.1.4.1.14519.5.2.1.6279.6001.108197895896446896160048741492\n",
      "[DONE] -- READING IN: subset0/1.3.6.1.4.1.14519.5.2.1.6279.6001.108197895896446896160048741492\n",
      "[START] -- READING IN: subset0/1.3.6.1.4.1.14519.5.2.1.6279.6001.109002525524522225658609808059\n",
      "[DONE] -- READING IN: subset0/1.3.6.1.4.1.14519.5.2.1.6279.6001.109002525524522225658609808059\n",
      "[START] -- READING IN: subset0/1.3.6.1.4.1.14519.5.2.1.6279.6001.111172165674661221381920536987\n",
      "[DONE] -- READING IN: subset0/1.3.6.1.4.1.14519.5.2.1.6279.6001.111172165674661221381920536987\n",
      "[SKIP] - no annotations for 1.3.6.1.4.1.14519.5.2.1.6279.6001.122763913896761494371822656720\n",
      "[START] -- READING IN: subset0/1.3.6.1.4.1.14519.5.2.1.6279.6001.124154461048929153767743874565\n",
      "[DONE] -- READING IN: subset0/1.3.6.1.4.1.14519.5.2.1.6279.6001.124154461048929153767743874565\n",
      "[SKIP] - no annotations for 1.3.6.1.4.1.14519.5.2.1.6279.6001.126121460017257137098781143514\n",
      "[START] -- READING IN: subset0/1.3.6.1.4.1.14519.5.2.1.6279.6001.126264578931778258890371755354\n",
      "[DONE] -- READING IN: subset0/1.3.6.1.4.1.14519.5.2.1.6279.6001.126264578931778258890371755354\n",
      "[START] -- READING IN: subset0/1.3.6.1.4.1.14519.5.2.1.6279.6001.128023902651233986592378348912\n",
      "[DONE] -- READING IN: subset0/1.3.6.1.4.1.14519.5.2.1.6279.6001.128023902651233986592378348912\n",
      "[START] -- READING IN: subset0/1.3.6.1.4.1.14519.5.2.1.6279.6001.129055977637338639741695800950\n",
      "[DONE] -- READING IN: subset0/1.3.6.1.4.1.14519.5.2.1.6279.6001.129055977637338639741695800950\n",
      "[START] -- READING IN: subset0/1.3.6.1.4.1.14519.5.2.1.6279.6001.130438550890816550994739120843\n",
      "[DONE] -- READING IN: subset0/1.3.6.1.4.1.14519.5.2.1.6279.6001.130438550890816550994739120843\n",
      "[START] -- READING IN: subset0/1.3.6.1.4.1.14519.5.2.1.6279.6001.134996872583497382954024478441\n",
      "[DONE] -- READING IN: subset0/1.3.6.1.4.1.14519.5.2.1.6279.6001.134996872583497382954024478441\n",
      "[START] -- READING IN: subset0/1.3.6.1.4.1.14519.5.2.1.6279.6001.137763212752154081977261297097\n",
      "[DONE] -- READING IN: subset0/1.3.6.1.4.1.14519.5.2.1.6279.6001.137763212752154081977261297097\n",
      "[START] -- READING IN: subset0/1.3.6.1.4.1.14519.5.2.1.6279.6001.138080888843357047811238713686\n",
      "[DONE] -- READING IN: subset0/1.3.6.1.4.1.14519.5.2.1.6279.6001.138080888843357047811238713686\n",
      "[START] -- READING IN: subset0/1.3.6.1.4.1.14519.5.2.1.6279.6001.139258777898746693365877042411\n",
      "[DONE] -- READING IN: subset0/1.3.6.1.4.1.14519.5.2.1.6279.6001.139258777898746693365877042411\n",
      "[SKIP] - no annotations for 1.3.6.1.4.1.14519.5.2.1.6279.6001.139713436241461669335487719526\n",
      "[START] -- READING IN: subset0/1.3.6.1.4.1.14519.5.2.1.6279.6001.141069661700670042960678408762\n",
      "[DONE] -- READING IN: subset0/1.3.6.1.4.1.14519.5.2.1.6279.6001.141069661700670042960678408762\n",
      "[SKIP] - no annotations for 1.3.6.1.4.1.14519.5.2.1.6279.6001.144438612068946916340281098509\n",
      "[SKIP] - no annotations for 1.3.6.1.4.1.14519.5.2.1.6279.6001.146429221666426688999739595820\n",
      "[START] -- READING IN: subset0/1.3.6.1.4.1.14519.5.2.1.6279.6001.154677396354641150280013275227\n",
      "[DONE] -- READING IN: subset0/1.3.6.1.4.1.14519.5.2.1.6279.6001.154677396354641150280013275227\n",
      "[START] -- READING IN: subset0/1.3.6.1.4.1.14519.5.2.1.6279.6001.187451715205085403623595258748\n",
      "[DONE] -- READING IN: subset0/1.3.6.1.4.1.14519.5.2.1.6279.6001.187451715205085403623595258748\n",
      "[START] -- READING IN: subset0/1.3.6.1.4.1.14519.5.2.1.6279.6001.188209889686363159853715266493\n",
      "[DONE] -- READING IN: subset0/1.3.6.1.4.1.14519.5.2.1.6279.6001.188209889686363159853715266493\n",
      "[START] -- READING IN: subset0/1.3.6.1.4.1.14519.5.2.1.6279.6001.188376349804761988217597754952\n",
      "[DONE] -- READING IN: subset0/1.3.6.1.4.1.14519.5.2.1.6279.6001.188376349804761988217597754952\n",
      "[START] -- READING IN: subset0/1.3.6.1.4.1.14519.5.2.1.6279.6001.194440094986948071643661798326\n",
      "[DONE] -- READING IN: subset0/1.3.6.1.4.1.14519.5.2.1.6279.6001.194440094986948071643661798326\n",
      "[SKIP] - no annotations for 1.3.6.1.4.1.14519.5.2.1.6279.6001.194465340552956447447896167830\n",
      "[START] -- READING IN: subset0/1.3.6.1.4.1.14519.5.2.1.6279.6001.202811684116768680758082619196\n",
      "[DONE] -- READING IN: subset0/1.3.6.1.4.1.14519.5.2.1.6279.6001.202811684116768680758082619196\n",
      "[SKIP] - no annotations for 1.3.6.1.4.1.14519.5.2.1.6279.6001.210837812047373739447725050963\n",
      "[START] -- READING IN: subset0/1.3.6.1.4.1.14519.5.2.1.6279.6001.213140617640021803112060161074\n",
      "[DONE] -- READING IN: subset0/1.3.6.1.4.1.14519.5.2.1.6279.6001.213140617640021803112060161074\n",
      "[START] -- READING IN: subset0/1.3.6.1.4.1.14519.5.2.1.6279.6001.216882370221919561230873289517\n",
      "[DONE] -- READING IN: subset0/1.3.6.1.4.1.14519.5.2.1.6279.6001.216882370221919561230873289517\n",
      "[START] -- READING IN: subset0/1.3.6.1.4.1.14519.5.2.1.6279.6001.219087313261026510628926082729\n",
      "[DONE] -- READING IN: subset0/1.3.6.1.4.1.14519.5.2.1.6279.6001.219087313261026510628926082729\n",
      "[START] -- READING IN: subset0/1.3.6.1.4.1.14519.5.2.1.6279.6001.219909753224298157409438012179\n",
      "[DONE] -- READING IN: subset0/1.3.6.1.4.1.14519.5.2.1.6279.6001.219909753224298157409438012179\n",
      "[START] -- READING IN: subset0/1.3.6.1.4.1.14519.5.2.1.6279.6001.227962600322799211676960828223\n",
      "[DONE] -- READING IN: subset0/1.3.6.1.4.1.14519.5.2.1.6279.6001.227962600322799211676960828223\n",
      "[SKIP] - no annotations for 1.3.6.1.4.1.14519.5.2.1.6279.6001.231645134739451754302647733304\n",
      "[SKIP] - no annotations for 1.3.6.1.4.1.14519.5.2.1.6279.6001.238522526736091851696274044574\n",
      "[START] -- READING IN: subset0/1.3.6.1.4.1.14519.5.2.1.6279.6001.241570579760883349458693655367\n",
      "[DONE] -- READING IN: subset0/1.3.6.1.4.1.14519.5.2.1.6279.6001.241570579760883349458693655367\n",
      "[START] -- READING IN: subset0/1.3.6.1.4.1.14519.5.2.1.6279.6001.249530219848512542668813996730\n",
      "[DONE] -- READING IN: subset0/1.3.6.1.4.1.14519.5.2.1.6279.6001.249530219848512542668813996730\n",
      "[SKIP] - no annotations for 1.3.6.1.4.1.14519.5.2.1.6279.6001.250438451287314206124484591986\n",
      "[START] -- READING IN: subset0/1.3.6.1.4.1.14519.5.2.1.6279.6001.250863365157630276148828903732\n",
      "[DONE] -- READING IN: subset0/1.3.6.1.4.1.14519.5.2.1.6279.6001.250863365157630276148828903732\n",
      "[SKIP] - no annotations for 1.3.6.1.4.1.14519.5.2.1.6279.6001.269689294231892620436462818860\n",
      "[START] -- READING IN: subset0/1.3.6.1.4.1.14519.5.2.1.6279.6001.272042302501586336192628818865\n",
      "[DONE] -- READING IN: subset0/1.3.6.1.4.1.14519.5.2.1.6279.6001.272042302501586336192628818865\n",
      "[START] -- READING IN: subset0/1.3.6.1.4.1.14519.5.2.1.6279.6001.277445975068759205899107114231\n",
      "[DONE] -- READING IN: subset0/1.3.6.1.4.1.14519.5.2.1.6279.6001.277445975068759205899107114231\n",
      "[SKIP] - no annotations for 1.3.6.1.4.1.14519.5.2.1.6279.6001.278660284797073139172446973682\n",
      "[SKIP] - no annotations for 1.3.6.1.4.1.14519.5.2.1.6279.6001.280972147860943609388015648430\n",
      "[START] -- READING IN: subset0/1.3.6.1.4.1.14519.5.2.1.6279.6001.281489753704424911132261151767\n",
      "[DONE] -- READING IN: subset0/1.3.6.1.4.1.14519.5.2.1.6279.6001.281489753704424911132261151767\n",
      "[START] -- READING IN: subset0/1.3.6.1.4.1.14519.5.2.1.6279.6001.293757615532132808762625441831\n",
      "[DONE] -- READING IN: subset0/1.3.6.1.4.1.14519.5.2.1.6279.6001.293757615532132808762625441831\n",
      "[START] -- READING IN: subset0/1.3.6.1.4.1.14519.5.2.1.6279.6001.294188507421106424248264912111\n",
      "[DONE] -- READING IN: subset0/1.3.6.1.4.1.14519.5.2.1.6279.6001.294188507421106424248264912111\n",
      "[START] -- READING IN: subset0/1.3.6.1.4.1.14519.5.2.1.6279.6001.295298571102631191572192562523\n",
      "[DONE] -- READING IN: subset0/1.3.6.1.4.1.14519.5.2.1.6279.6001.295298571102631191572192562523\n",
      "[START] -- READING IN: subset0/1.3.6.1.4.1.14519.5.2.1.6279.6001.295420274214095686326263147663\n",
      "[DONE] -- READING IN: subset0/1.3.6.1.4.1.14519.5.2.1.6279.6001.295420274214095686326263147663\n",
      "[SKIP] - no annotations for 1.3.6.1.4.1.14519.5.2.1.6279.6001.302134342469412607966016057827\n",
      "[START] -- READING IN: subset0/1.3.6.1.4.1.14519.5.2.1.6279.6001.303421828981831854739626597495\n",
      "[DONE] -- READING IN: subset0/1.3.6.1.4.1.14519.5.2.1.6279.6001.303421828981831854739626597495\n",
      "[START] -- READING IN: subset0/1.3.6.1.4.1.14519.5.2.1.6279.6001.305858704835252413616501469037\n",
      "[DONE] -- READING IN: subset0/1.3.6.1.4.1.14519.5.2.1.6279.6001.305858704835252413616501469037\n",
      "[START] -- READING IN: subset0/1.3.6.1.4.1.14519.5.2.1.6279.6001.310548927038333190233889983845\n",
      "[DONE] -- READING IN: subset0/1.3.6.1.4.1.14519.5.2.1.6279.6001.310548927038333190233889983845\n",
      "[SKIP] - no annotations for 1.3.6.1.4.1.14519.5.2.1.6279.6001.310626494937915759224334597176\n",
      "[SKIP] - no annotations for 1.3.6.1.4.1.14519.5.2.1.6279.6001.311981398931043315779172047718\n",
      "[START] -- READING IN: subset0/1.3.6.1.4.1.14519.5.2.1.6279.6001.313334055029671473836954456733\n",
      "[DONE] -- READING IN: subset0/1.3.6.1.4.1.14519.5.2.1.6279.6001.313334055029671473836954456733\n",
      "[START] -- READING IN: subset0/1.3.6.1.4.1.14519.5.2.1.6279.6001.313605260055394498989743099991\n",
      "[DONE] -- READING IN: subset0/1.3.6.1.4.1.14519.5.2.1.6279.6001.313605260055394498989743099991\n",
      "[START] -- READING IN: subset0/1.3.6.1.4.1.14519.5.2.1.6279.6001.313835996725364342034830119490\n",
      "[DONE] -- READING IN: subset0/1.3.6.1.4.1.14519.5.2.1.6279.6001.313835996725364342034830119490\n",
      "[STATUS] -- READ IN 40 entries in subset0\n",
      "\n",
      "\n",
      "Subset keys: ['subset0']\n",
      "Subset lengths: [40]\n",
      "Filename keys: ['1.3.6.1.4.1.14519.5.2.1.6279.6001.108197895896446896160048741492', '1.3.6.1.4.1.14519.5.2.1.6279.6001.109002525524522225658609808059', '1.3.6.1.4.1.14519.5.2.1.6279.6001.111172165674661221381920536987', '1.3.6.1.4.1.14519.5.2.1.6279.6001.124154461048929153767743874565', '1.3.6.1.4.1.14519.5.2.1.6279.6001.126264578931778258890371755354', '1.3.6.1.4.1.14519.5.2.1.6279.6001.128023902651233986592378348912', '1.3.6.1.4.1.14519.5.2.1.6279.6001.129055977637338639741695800950', '1.3.6.1.4.1.14519.5.2.1.6279.6001.130438550890816550994739120843', '1.3.6.1.4.1.14519.5.2.1.6279.6001.134996872583497382954024478441', '1.3.6.1.4.1.14519.5.2.1.6279.6001.137763212752154081977261297097', '1.3.6.1.4.1.14519.5.2.1.6279.6001.138080888843357047811238713686', '1.3.6.1.4.1.14519.5.2.1.6279.6001.139258777898746693365877042411', '1.3.6.1.4.1.14519.5.2.1.6279.6001.141069661700670042960678408762', '1.3.6.1.4.1.14519.5.2.1.6279.6001.154677396354641150280013275227', '1.3.6.1.4.1.14519.5.2.1.6279.6001.187451715205085403623595258748', '1.3.6.1.4.1.14519.5.2.1.6279.6001.188209889686363159853715266493', '1.3.6.1.4.1.14519.5.2.1.6279.6001.188376349804761988217597754952', '1.3.6.1.4.1.14519.5.2.1.6279.6001.194440094986948071643661798326', '1.3.6.1.4.1.14519.5.2.1.6279.6001.202811684116768680758082619196', '1.3.6.1.4.1.14519.5.2.1.6279.6001.213140617640021803112060161074', '1.3.6.1.4.1.14519.5.2.1.6279.6001.216882370221919561230873289517', '1.3.6.1.4.1.14519.5.2.1.6279.6001.219087313261026510628926082729', '1.3.6.1.4.1.14519.5.2.1.6279.6001.219909753224298157409438012179', '1.3.6.1.4.1.14519.5.2.1.6279.6001.227962600322799211676960828223', '1.3.6.1.4.1.14519.5.2.1.6279.6001.241570579760883349458693655367', '1.3.6.1.4.1.14519.5.2.1.6279.6001.249530219848512542668813996730', '1.3.6.1.4.1.14519.5.2.1.6279.6001.250863365157630276148828903732', '1.3.6.1.4.1.14519.5.2.1.6279.6001.272042302501586336192628818865', '1.3.6.1.4.1.14519.5.2.1.6279.6001.277445975068759205899107114231', '1.3.6.1.4.1.14519.5.2.1.6279.6001.281489753704424911132261151767', '1.3.6.1.4.1.14519.5.2.1.6279.6001.293757615532132808762625441831', '1.3.6.1.4.1.14519.5.2.1.6279.6001.294188507421106424248264912111', '1.3.6.1.4.1.14519.5.2.1.6279.6001.295298571102631191572192562523', '1.3.6.1.4.1.14519.5.2.1.6279.6001.295420274214095686326263147663', '1.3.6.1.4.1.14519.5.2.1.6279.6001.303421828981831854739626597495', '1.3.6.1.4.1.14519.5.2.1.6279.6001.305858704835252413616501469037', '1.3.6.1.4.1.14519.5.2.1.6279.6001.310548927038333190233889983845', '1.3.6.1.4.1.14519.5.2.1.6279.6001.313334055029671473836954456733', '1.3.6.1.4.1.14519.5.2.1.6279.6001.313605260055394498989743099991', '1.3.6.1.4.1.14519.5.2.1.6279.6001.313835996725364342034830119490']\n"
     ]
    }
   ],
   "source": [
    "read_in_num = 40\n",
    "\n",
    "subset_path = lambda subset: os.path.join(SUBSETS_PATH, subset)\n",
    "file_path = lambda subset, filename: os.path.join(SUBSETS_PATH, subset, filename)\n",
    "\n",
    "for i, subset in enumerate(SUBSETS):\n",
    "  if subset != SUBSET:\n",
    "    break\n",
    "\n",
    "  # Create subset key if it doesn't exist\n",
    "  if subset not in image_dict:\n",
    "    image_dict[subset] = {}\n",
    "\n",
    "  # Iterate through all the keys in the subset\n",
    "  read_in = 0\n",
    "  for j, filename in enumerate(os.listdir(subset_path(subset))):\n",
    "    # if j < 8: continue # Do not read in before the third file (they have annotations)\n",
    "\n",
    "    name, extension = os.path.splitext(filename) # Separate filename and extension\n",
    "\n",
    "    if extension != \".mhd\":\n",
    "      continue\n",
    "\n",
    "    if not len(annotations_by_uid(name, ANNOTATIONS_DF)):\n",
    "      print(f\"[SKIP] - no annotations for {name}\")\n",
    "      continue\n",
    "\n",
    "    # Only read if there is missing information\n",
    "    if name not in image_dict[subset]:\n",
    "      print(f\"[START] -- READING IN: {subset}/{name}\")\n",
    "      image = sitk.ReadImage(os.path.join(SUBSETS_PATH, subset, filename))\n",
    "\n",
    "      image_dict[subset][name] = image\n",
    "      print(f\"[DONE] -- READING IN: {subset}/{name}\")\n",
    "\n",
    "    else:\n",
    "      print(f\"[SKIP] -- ALREADY EXISTS: {subset}/{name}\")\n",
    "      continue\n",
    "\n",
    "    read_in += 1 # Increment file-read-in counter\n",
    "    if read_in >= read_in_num: break # If desired read-ins are reached for loop is broken in the subset\n",
    "\n",
    "  print(f\"[STATUS] -- READ IN {read_in_num} entries in {subset}\")\n",
    "\n",
    "\n",
    "subset_keys = list(image_dict.keys()) # Extract the stored subset-keys\n",
    "filename_keys = [list(image_dict[key].keys()) for key in subset_keys] # Extract the stored filename-keys\n",
    "filename_keys_flat = list(np.array(filename_keys).ravel())#[*filename_keys[0], *filename_keys[1],] # Flatten the stored filename-keys\n",
    "\n",
    "print(f\"\\n\")\n",
    "print(f\"Subset keys: {subset_keys}\")\n",
    "print(f\"Subset lengths: {[len(image_dict[key]) for key in subset_keys]}\")\n",
    "print(f\"Filename keys: {filename_keys_flat}\")"
   ]
  },
  {
   "cell_type": "markdown",
   "metadata": {
    "id": "GDVEENW7OSDJ"
   },
   "source": [
    "_______________________\n",
    "## MASK"
   ]
  },
  {
   "cell_type": "code",
   "execution_count": null,
   "metadata": {
    "id": "yTL7qp_TOTwK"
   },
   "outputs": [],
   "source": [
    "def draw_ellipsoid(mask, center, diameters, zyx=True):\n",
    "    \"\"\"\n",
    "    Draws ellipsioid with custom diameters on a 3D image\n",
    "    NOTE: center coordinates are in (z,y,x) order by default\n",
    "    \"\"\"\n",
    "    # Extract the diameters for each axis\n",
    "    if zyx:\n",
    "      dz, dy, dx = diameters\n",
    "    else:\n",
    "      dx, dy, dz = diameters\n",
    "\n",
    "    # Calculate the radii for each axis\n",
    "    rz, ry, rx = dz / 2, dy / 2, dx / 2\n",
    "\n",
    "    # Extract the shape of the array\n",
    "    zmax, ymax, xmax = mask.shape\n",
    "\n",
    "    # Get the range of indices to iterate over (stay within the array bounds)\n",
    "    z_start, z_end = max(0, center[0]-int(rz)), min(zmax, center[0]+int(rz)+1)\n",
    "    y_start, y_end = max(0, center[1]-int(ry)), min(ymax, center[1]+int(ry)+1)\n",
    "    x_start, x_end = max(0, center[2]-int(rx)), min(xmax, center[2]+int(rx)+1)\n",
    "\n",
    "    # Iterate over each point in the bounding box of the ellipsoid\n",
    "    for z in range(z_start, z_end):\n",
    "        for y in range(y_start, y_end):\n",
    "            for x in range(x_start, x_end):\n",
    "                # Calculate the normalized distance from the current point to the center\n",
    "                if (((x - center[2])**2 / rx**2) + ((y - center[1])**2 / ry**2) + ((z - center[0])**2 / rz**2)) <= 1:\n",
    "                    mask[z, y, x] = 1  # Set the value inside the ellipsoid\n",
    "\n",
    "\n",
    "def create_3d_mask(center, diameters, img=np.zeros((28,28,28))):\n",
    "  mask = np.zeros_like(img)\n",
    "  draw_ellipsoid(mask, center, diameters)\n",
    "  return mask\n",
    "\n",
    "def create_annotations_mask(origin, spacing, annotations:pd.DataFrame, image:np.ndarray, verbose=False):\n",
    "  \"\"\"\n",
    "  Creates 3D mask for annotations and provided metadata and CT scan case\n",
    "  \"\"\"\n",
    "  centers = []\n",
    "  diameters = []\n",
    "\n",
    "  # If there is no given annotations\n",
    "  if not len(annotations):\n",
    "    return np.zeros_like(image, dtype=np.uint8), []\n",
    "\n",
    "\n",
    "  # Iterate thorugh the annotations\n",
    "  annotation_i = 0 # Toggle mask creation in the first iteration\n",
    "  for i, row in annotations.iterrows():\n",
    "    world_coords = np.array([row['coordX'], row['coordY'], row['coordZ']]) # Coordinates of the device\n",
    "    pixel_coords = np.round((world_coords - origin) / spacing).astype(int) # Translated coordinates into voxelspace\n",
    "\n",
    "    diam = row[\"diameter_mm\"] # Diameter scalar\n",
    "    diams = np.rint(diam / np.array(spacing)) # Diameters scaled by spacing (x, y, z)\n",
    "\n",
    "    # Flipping axes: (x, y, z) -> (z, y, x)\n",
    "    v_center = np.array([pixel_coords[2], pixel_coords[1], pixel_coords[0],]) # nodule center in voxel space (z,y,x ordering)\n",
    "    v_diameters = np.array([diams[2], diams[1], diams[0],]) # flipping to (z, y, x)\n",
    "\n",
    "    centers.append(v_center)\n",
    "    diameters.append(v_diameters)\n",
    "\n",
    "\n",
    "    # Adding annotations to the mask\n",
    "    if annotation_i == 0:\n",
    "      if verbose:\n",
    "        print(f\"[ANNOTATION #{annotation_i + 1}] -- Create image mask\")\n",
    "\n",
    "      mask = create_3d_mask(v_center, v_diameters, image)\n",
    "      annotation_i += 1\n",
    "    else:\n",
    "      if verbose:\n",
    "        print(f\"[ANNOTATION #{annotation_i + 1}] -- Adding annotation #{annotation_i + 1}, index: {i}\")\n",
    "\n",
    "      draw_ellipsoid(mask, v_center, v_diameters)\n",
    "      annotation_i += 1\n",
    "\n",
    "    if verbose:\n",
    "      z, y, x = image.shape\n",
    "      print(f\"Row index: {i}\")\n",
    "      print(f\"Slices: Z: {z}, Y: {y}, X: {x}\")\n",
    "      print(f\"Origin : {origin}\")\n",
    "      print(f\"Spacing : {spacing}\")\n",
    "      print(f\"V-center: {v_center}\")\n",
    "      print(f\"Diameter: {diam}\")\n",
    "      print(f\"V-diameters: {v_diameters}\")\n",
    "\n",
    "  return mask, np.array(centers)\n",
    "\n",
    "\n",
    "def create_annotations_mask_by_id(uid, verbose=False):\n",
    "  origin, spacing = meta_by_uid(uid)\n",
    "  annotations = annotations_by_uid(uid)\n",
    "  img = img_by_uid(uid)\n",
    "\n",
    "  return create_annotations_mask(origin, spacing, annotations, img, verbose)"
   ]
  },
  {
   "cell_type": "markdown",
   "metadata": {
    "id": "ZCxE7FULN6-6"
   },
   "source": [
    "______\n",
    "## ANNOTATIONS"
   ]
  },
  {
   "cell_type": "code",
   "execution_count": null,
   "metadata": {
    "id": "ju_HCZ74N-kB"
   },
   "outputs": [],
   "source": [
    "current_files = [key for keys in filename_keys for key in keys]\n",
    "filtered_df = ANNOTATIONS_DF[ANNOTATIONS_DF[\"seriesuid\"].isin(current_files)]"
   ]
  },
  {
   "cell_type": "code",
   "execution_count": null,
   "metadata": {
    "id": "C-BMwQdNO7Oy"
   },
   "outputs": [],
   "source": [
    "def create_annotations_mask(origin, spacing, annotations:pd.DataFrame, image:np.ndarray, verbose=False):\n",
    "  \"\"\"\n",
    "  Creates 3D mask for annotations and provided metadata and CT scan case\n",
    "  \"\"\"\n",
    "  centers = []\n",
    "  diameters = []\n",
    "\n",
    "  # If there is no given annotations\n",
    "  if not len(annotations):\n",
    "    return np.zeros_like(image, dtype=np.uint16), []\n",
    "\n",
    "\n",
    "  # Iterate thorugh the annotations\n",
    "  annotation_i = 0 # Toggle mask creation in the first iteration\n",
    "  for i, row in annotations.iterrows():\n",
    "    world_coords = np.array([row['coordX'], row['coordY'], row['coordZ']]) # Coordinates of the device\n",
    "    pixel_coords = np.round((world_coords - origin) / spacing).astype(int) # Translated coordinates into voxelspace\n",
    "\n",
    "    diam = row[\"diameter_mm\"] # Diameter scalar\n",
    "    diams = np.rint(diam / np.array(spacing)) # Diameters scaled by spacing (x, y, z)\n",
    "\n",
    "    # Flipping axes: (x, y, z) -> (z, y, x)\n",
    "    v_center = np.array([pixel_coords[2], pixel_coords[1], pixel_coords[0],]) # nodule center in voxel space (z,y,x ordering)\n",
    "    v_diameters = np.array([diams[2], diams[1], diams[0],]) # flipping to (z, y, x)\n",
    "\n",
    "    centers.append(v_center)\n",
    "    diameters.append(v_diameters)\n",
    "\n",
    "\n",
    "    # Adding annotations to the mask\n",
    "    if annotation_i == 0:\n",
    "      if verbose:\n",
    "        print(f\"[ANNOTATION #{annotation_i + 1}] -- Create image mask\")\n",
    "\n",
    "      mask = create_3d_mask(v_center, v_diameters, image)\n",
    "      annotation_i += 1\n",
    "    else:\n",
    "      if verbose:\n",
    "        print(f\"[ANNOTATION #{annotation_i + 1}] -- Adding annotation #{annotation_i + 1}, index: {i}\")\n",
    "\n",
    "      draw_ellipsoid(mask, v_center, v_diameters)\n",
    "      annotation_i += 1\n",
    "\n",
    "    if verbose:\n",
    "      z, y, x = image.shape\n",
    "      print(f\"Row index: {i}\")\n",
    "      print(f\"Slices: Z: {z}, Y: {y}, X: {x}\")\n",
    "      print(f\"Origin : {origin}\")\n",
    "      print(f\"Spacing : {spacing}\")\n",
    "      print(f\"V-center: {v_center}\")\n",
    "      print(f\"Diameter: {diam}\")\n",
    "      print(f\"V-diameters: {v_diameters}\")\n",
    "\n",
    "  return mask, np.array(centers)\n",
    "\n",
    "\n",
    "def create_annotations_mask_by_uid(uid, image_dict, verbose=False):\n",
    "  origin, spacing = meta_by_uid(uid, image_dict)\n",
    "  annotations = annotations_by_uid(uid, ANNOTATIONS_DF)\n",
    "  img = img_by_uid(uid, image_dict)\n",
    "\n",
    "  return create_annotations_mask(origin, spacing, annotations, img, verbose)"
   ]
  },
  {
   "cell_type": "markdown",
   "metadata": {
    "id": "MqjcLqjaKvMi"
   },
   "source": [
    "________________\n",
    "\n",
    "## LUNG"
   ]
  },
  {
   "cell_type": "markdown",
   "metadata": {
    "id": "6f_bRIgCNPe9"
   },
   "source": [
    "TEST ON ONE Z SLICE"
   ]
  },
  {
   "cell_type": "code",
   "execution_count": null,
   "metadata": {
    "id": "TdA_X0D1NSB-"
   },
   "outputs": [],
   "source": [
    "uids = get_uids(image_dict)\n",
    "uids = pd.Series(np.zeros((len(uids)), int), index=uids)\n",
    "# print(\"ALL\")\n",
    "# print(uids)\n",
    "\n",
    "ann = filtered_df[\"seriesuid\"].value_counts()\n",
    "\n",
    "# print(\"W/ ANNOTATIONS\")\n",
    "# print(filtered_df[\"seriesuid\"].value_counts())"
   ]
  },
  {
   "cell_type": "code",
   "execution_count": null,
   "metadata": {
    "colab": {
     "base_uri": "https://localhost:8080/"
    },
    "executionInfo": {
     "elapsed": 617,
     "status": "ok",
     "timestamp": 1718016325633,
     "user": {
      "displayName": "Áron B. Gimesi",
      "userId": "03233526977624235264"
     },
     "user_tz": -120
    },
    "id": "Jw-7JY8XPXu-",
    "outputId": "7e5cfba6-9fba-4da1-f818-c107b046c159"
   },
   "outputs": [
    {
     "name": "stdout",
     "output_type": "stream",
     "text": [
      "Annotations for each case\n",
      "1.3.6.1.4.1.14519.5.2.1.6279.6001.108197895896446896160048741492    1\n",
      "1.3.6.1.4.1.14519.5.2.1.6279.6001.109002525524522225658609808059    2\n",
      "1.3.6.1.4.1.14519.5.2.1.6279.6001.111172165674661221381920536987    1\n",
      "1.3.6.1.4.1.14519.5.2.1.6279.6001.124154461048929153767743874565    1\n",
      "1.3.6.1.4.1.14519.5.2.1.6279.6001.126264578931778258890371755354    1\n",
      "1.3.6.1.4.1.14519.5.2.1.6279.6001.128023902651233986592378348912    1\n",
      "1.3.6.1.4.1.14519.5.2.1.6279.6001.129055977637338639741695800950    1\n",
      "1.3.6.1.4.1.14519.5.2.1.6279.6001.130438550890816550994739120843    1\n",
      "1.3.6.1.4.1.14519.5.2.1.6279.6001.134996872583497382954024478441    4\n",
      "1.3.6.1.4.1.14519.5.2.1.6279.6001.137763212752154081977261297097    2\n",
      "1.3.6.1.4.1.14519.5.2.1.6279.6001.138080888843357047811238713686    1\n",
      "1.3.6.1.4.1.14519.5.2.1.6279.6001.139258777898746693365877042411    1\n",
      "1.3.6.1.4.1.14519.5.2.1.6279.6001.141069661700670042960678408762    1\n",
      "1.3.6.1.4.1.14519.5.2.1.6279.6001.154677396354641150280013275227    1\n",
      "1.3.6.1.4.1.14519.5.2.1.6279.6001.187451715205085403623595258748    2\n",
      "1.3.6.1.4.1.14519.5.2.1.6279.6001.188209889686363159853715266493    2\n",
      "1.3.6.1.4.1.14519.5.2.1.6279.6001.188376349804761988217597754952    4\n",
      "1.3.6.1.4.1.14519.5.2.1.6279.6001.194440094986948071643661798326    1\n",
      "1.3.6.1.4.1.14519.5.2.1.6279.6001.202811684116768680758082619196    1\n",
      "1.3.6.1.4.1.14519.5.2.1.6279.6001.213140617640021803112060161074    3\n",
      "1.3.6.1.4.1.14519.5.2.1.6279.6001.216882370221919561230873289517    2\n",
      "1.3.6.1.4.1.14519.5.2.1.6279.6001.219087313261026510628926082729    2\n",
      "1.3.6.1.4.1.14519.5.2.1.6279.6001.219909753224298157409438012179    2\n",
      "1.3.6.1.4.1.14519.5.2.1.6279.6001.227962600322799211676960828223    1\n",
      "1.3.6.1.4.1.14519.5.2.1.6279.6001.241570579760883349458693655367    1\n",
      "1.3.6.1.4.1.14519.5.2.1.6279.6001.249530219848512542668813996730    3\n",
      "1.3.6.1.4.1.14519.5.2.1.6279.6001.250863365157630276148828903732    1\n",
      "1.3.6.1.4.1.14519.5.2.1.6279.6001.272042302501586336192628818865    1\n",
      "1.3.6.1.4.1.14519.5.2.1.6279.6001.277445975068759205899107114231    2\n",
      "1.3.6.1.4.1.14519.5.2.1.6279.6001.281489753704424911132261151767    1\n",
      "1.3.6.1.4.1.14519.5.2.1.6279.6001.293757615532132808762625441831    2\n",
      "1.3.6.1.4.1.14519.5.2.1.6279.6001.294188507421106424248264912111    3\n",
      "1.3.6.1.4.1.14519.5.2.1.6279.6001.295298571102631191572192562523    2\n",
      "1.3.6.1.4.1.14519.5.2.1.6279.6001.295420274214095686326263147663    5\n",
      "1.3.6.1.4.1.14519.5.2.1.6279.6001.303421828981831854739626597495    1\n",
      "1.3.6.1.4.1.14519.5.2.1.6279.6001.305858704835252413616501469037    2\n",
      "1.3.6.1.4.1.14519.5.2.1.6279.6001.310548927038333190233889983845    1\n",
      "1.3.6.1.4.1.14519.5.2.1.6279.6001.313334055029671473836954456733    1\n",
      "1.3.6.1.4.1.14519.5.2.1.6279.6001.313605260055394498989743099991    1\n",
      "1.3.6.1.4.1.14519.5.2.1.6279.6001.313835996725364342034830119490    1\n",
      "Name: count, dtype: int64\n"
     ]
    }
   ],
   "source": [
    "# Combine s1 with s2\n",
    "all = ann.combine_first(uids).astype(int)\n",
    "\n",
    "print(\"Annotations for each case\")\n",
    "print(all)\n",
    "#print(find_by_uid(\"1.3.6.1.4.1.14519.5.2.1.6279.6001.219909753224298157409438012179\"))"
   ]
  },
  {
   "cell_type": "code",
   "execution_count": null,
   "metadata": {
    "id": "rXCa-RUWGfwa"
   },
   "outputs": [],
   "source": [
    "def delete_table(slc, debug=False):\n",
    "    new_slc = slc.copy()\n",
    "    labels = measure.label(slc, background=0)\n",
    "    idxs = np.unique(labels)[1:]\n",
    "    COM_ys = np.array([center_of_mass(labels==i)[0] for i in idxs])\n",
    "\n",
    "    masses = [center_of_mass(labels == j) for j in range(1, np.unique(labels).size)]\n",
    "\n",
    "    if debug:\n",
    "      plt.imshow(new_slc)\n",
    "      plt.show()\n",
    "      plt.imshow(labels)\n",
    "      plt.show()\n",
    "      print(masses)\n",
    "\n",
    "    # Calculate distances from the center of the slice\n",
    "    center_y = slc.shape[0] / 2\n",
    "    distances = [(i, np.abs(com[0] - center_y)) for i, com in zip(idxs, masses)]\n",
    "\n",
    "    # Sort by distance and keep the closest 3 labels\n",
    "    distances.sort(key=lambda x: x[1])\n",
    "    closest_idxs = [distances[i][0] for i in range(min(3, len(distances)))]\n",
    "\n",
    "    for idx in idxs:\n",
    "        if idx not in closest_idxs:\n",
    "            new_slc[labels == idx] = 0\n",
    "\n",
    "    for idx, COM_y in zip(idxs, COM_ys):\n",
    "        if (COM_y < 0.25*slc.shape[0]):\n",
    "            new_slc[labels==idx] = 0\n",
    "        elif (COM_y > 0.75*slc.shape[0]):\n",
    "            new_slc[labels==idx] = 0\n",
    "\n",
    "    return new_slc\n",
    "\n",
    "def unwanted_object_filter(img: np.ndarray) -> np.ndarray:\n",
    "  closed = binary_closing(img, morphology.disk((5)))\n",
    "\n",
    "  # Label connected components\n",
    "  labels = measure.label(closed)\n",
    "  properties = measure.regionprops(labels)\n",
    "\n",
    "  # Sort regions by area and keep the two largest\n",
    "  detected_objects = sorted(properties, key=lambda x: x.area, reverse=True)\n",
    "\n",
    "  # Filter out the relevant sizes\n",
    "  area_th = 120\n",
    "  detected_objects = [obj for obj in detected_objects if obj.area > area_th]\n",
    "\n",
    "  # Create an empty image to hold the result\n",
    "  filtered_image = np.zeros_like(img, dtype=bool)\n",
    "\n",
    "  # Fill in the regions of the two largest objects\n",
    "  for prop in detected_objects:\n",
    "      filtered_image[labels == prop.label] = True\n",
    "\n",
    "  filtered_image = delete_table(filtered_image)\n",
    "\n",
    "  return filtered_image"
   ]
  },
  {
   "cell_type": "code",
   "execution_count": null,
   "metadata": {
    "id": "1eDY-CBice6z"
   },
   "outputs": [],
   "source": [
    "air_th = -1000\n",
    "lung_th = -500\n",
    "def lung_mask(img, denoising=\"gauss\", dilation_kern=3, debug=False):\n",
    "  analyzed = img.copy()\n",
    "\n",
    "  # Clipping uninterpretable data\n",
    "  analyzed[analyzed < air_th] = air_th\n",
    "\n",
    "  kernel = 5\n",
    "  match denoising:\n",
    "    case \"median\":\n",
    "      analyzed = cv.medianBlur(analyzed, ksize=kernel)\n",
    "    case \"gauss\":\n",
    "      analyzed = cv.GaussianBlur(analyzed, (kernel, kernel), sigmaX=1.5)\n",
    "    case \"none\":\n",
    "      analyzed = analyzed\n",
    "\n",
    "  # Filtering out tissues\n",
    "  thresholded = analyzed < lung_th\n",
    "  if debug:\n",
    "    plt.imshow(thresholded)\n",
    "    plt.show()\n",
    "\n",
    "  # Inverting to get the body area\n",
    "  inverted = ~thresholded\n",
    "  if debug:\n",
    "    plt.imshow(inverted)\n",
    "    plt.show()\n",
    "\n",
    "  # Filling body area\n",
    "  filled_inverted = binary_fill_holes(inverted)\n",
    "  if debug:\n",
    "    plt.imshow(filled_inverted)\n",
    "    plt.show()\n",
    "\n",
    "  # Eroding in order to remove body periphery artifacts\n",
    "  filled_inverted = binary_erosion(filled_inverted, morphology.disk(13))\n",
    "  if debug:\n",
    "    plt.imshow(filled_inverted)\n",
    "    plt.show()\n",
    "\n",
    "  # AND the body area\n",
    "  lung = np.bitwise_and(filled_inverted, thresholded)\n",
    "  if debug:\n",
    "    plt.imshow(filled_inverted)\n",
    "    plt.show()\n",
    "\n",
    "  # Removing non-lung objects\n",
    "  lung = unwanted_object_filter(lung)\n",
    "  if debug:\n",
    "    plt.imshow(lung)\n",
    "    plt.show()\n",
    "\n",
    "  # Fill holes in lung\n",
    "  lung = binary_closing(lung, morphology.disk(15))\n",
    "  if debug:\n",
    "    plt.imshow(lung)\n",
    "    plt.show()\n",
    "\n",
    "  # Dilation\n",
    "  if dilation_kern:\n",
    "    lung = cv.dilate(lung.astype(float), cv.getStructuringElement(cv.MORPH_ELLIPSE, (dilation_kern, dilation_kern)))\n",
    "  if debug:\n",
    "    plt.imshow(lung)\n",
    "    plt.show()\n",
    "\n",
    "  return lung.astype(bool)\n",
    "\n",
    "def lung_mask_3d(img, denoising=\"gauss\", dilation_kern=5):\n",
    "  if len(img.shape) != 3:\n",
    "    raise Exception(\"Shape has to be 3 dimensional\")\n",
    "  return process_slices(img, 0, lung_mask)\n",
    "\n",
    "def remove_non_central_objects(img, debug=False):\n",
    "    \"\"\"\n",
    "    Deletes objects from the input binary image slice that are not within the central region.\n",
    "\n",
    "    Parameters:\n",
    "    img (ndarray): Input binary image slice.\n",
    "    debug (bool): If True, shows debugging information (default is False).\n",
    "\n",
    "    Returns:\n",
    "    filtered_img (ndarray): Modified binary image slice with certain objects removed.\n",
    "    \"\"\"\n",
    "    # Create a copy of the input slice to\n",
    "    filtered_img = img.copy()\n",
    "\n",
    "    # Label connected components in the slice\n",
    "    labels = measure.label(img, background=0)\n",
    "    idxs = np.unique(labels)[1:]  # Get unique labels, excluding the background\n",
    "\n",
    "    # Compute the center of mass for each label\n",
    "    COM_ys = np.array([center_of_mass(labels == i)[0] for i in idxs])\n",
    "    masses = [center_of_mass(labels == j)\n",
    "              for j in range(1, np.unique(labels).size)]\n",
    "\n",
    "    if debug:\n",
    "        # Display debugging information if debug is True\n",
    "        plt.imshow(filtered_img)\n",
    "        plt.show()\n",
    "        plt.imshow(labels)\n",
    "        plt.show()\n",
    "        print(masses)\n",
    "\n",
    "    # Calculate distances from the center of the slice\n",
    "    center_y = img.shape[0] / 2\n",
    "    distances = [(i, np.abs(com[0] - center_y))\n",
    "                 for i, com in zip(idxs, masses)]\n",
    "\n",
    "    # Sort by distance and keep the closest 3 labels\n",
    "    distances.sort(key=lambda x: x[1])\n",
    "    closest_idxs = [distances[i][0] for i in range(min(3, len(distances)))]\n",
    "\n",
    "    # Remove labels that are not among the closest 3\n",
    "    for idx in idxs:\n",
    "        if idx not in closest_idxs:\n",
    "            filtered_img[labels == idx] = 0\n",
    "\n",
    "    # Further filter labels based on their vertical position in the slice\n",
    "    for idx, COM_y in zip(idxs, COM_ys):\n",
    "        if COM_y < 0.25 * img.shape[0] or COM_y > 0.75 * img.shape[0]:\n",
    "            filtered_img[labels == idx] = 0\n",
    "\n",
    "    return filtered_img\n",
    "\n",
    "\n",
    "def unwanted_object_filter(img: np.ndarray, area_th=1500) -> np.ndarray:\n",
    "    \"\"\"\n",
    "    Filters out unwanted objects from a binary image based on area and location.\n",
    "\n",
    "    Parameters:\n",
    "    img (ndarray): Input binary image.\n",
    "\n",
    "    Returns:\n",
    "    filtered_image (ndarray): Binary image with unwanted objects removed.\n",
    "    \"\"\"\n",
    "    # Perform binary closing to close small gaps in the image\n",
    "    closed = binary_closing(img.copy(), morphology.disk(5))\n",
    "\n",
    "    # Label connected components in the closed image\n",
    "    labels = measure.label(closed)\n",
    "    properties = measure.regionprops(labels)\n",
    "\n",
    "    # Sort regions by area and keep those larger than a threshold\n",
    "    detected_objects = [obj for obj in properties if obj.area > area_th]\n",
    "\n",
    "    # Create an empty image to hold the result\n",
    "    filtered_image = np.zeros_like(img, dtype=bool)\n",
    "\n",
    "    # Fill in the regions of the relevant objects\n",
    "    for prop in detected_objects:\n",
    "        filtered_image[labels == prop.label] = True\n",
    "\n",
    "    # Remove tables or similar objects using the delete_table function\n",
    "    filtered_image = remove_non_central_objects(filtered_image)\n",
    "\n",
    "    return filtered_image\n",
    "\n",
    "\n",
    "def binarize_lung(img: np.ndarray, threshold_val=LUNG_TH, debug=False):\n",
    "    \"\"\"\n",
    "    Binarizes a lung image using a series of image processing steps.\n",
    "\n",
    "    This function applies Gaussian blur, thresholding, and several morphological operations\n",
    "    to binarize the lung image, removing unwanted artifacts and filling holes.\n",
    "\n",
    "    Args:\n",
    "    img (numpy.ndarray): The input lung image.\n",
    "    threshold_val (int or float): The threshold value for binarization.\n",
    "\n",
    "    Returns:\n",
    "    numpy.ndarray: The binarized lung image.\n",
    "    \"\"\"\n",
    "    # Apply Gaussian blur to the image\n",
    "    blurred = cv.GaussianBlur(img, (5, 5), 0)\n",
    "\n",
    "    if debug:\n",
    "      debugger(norm2uint16(blurred), \"blurred\")\n",
    "\n",
    "    # Apply thresholding to create a binary image\n",
    "    th = (blurred < threshold_val).astype(float)\n",
    "\n",
    "    if debug:\n",
    "      debugger((th), \"thresholded\")\n",
    "\n",
    "\n",
    "    # Remove objects connected to the image border\n",
    "    th = clear_border(th)\n",
    "\n",
    "    if debug:\n",
    "      debugger((th), \"clear_border\")\n",
    "\n",
    "    # Remove small unwanted objects\n",
    "    th = unwanted_object_filter(th)\n",
    "\n",
    "    if debug:\n",
    "      debugger((th), \"object_filter\")\n",
    "\n",
    "    # Apply binary closing to smooth edges and remove small holes\n",
    "    th = binary_closing(th, morphology.disk(3))\n",
    "\n",
    "    if debug:\n",
    "      debugger((th), \"closed\")\n",
    "\n",
    "    # Fill remaining larger holes\n",
    "    th = binary_fill_holes(th)\n",
    "\n",
    "    if debug:\n",
    "      debugger((th), \"fill holes\")\n",
    "\n",
    "\n",
    "    return th\n",
    "\n",
    "\n",
    "def binarize_lung_3d(img_3d, threshold_val=LUNG_TH):\n",
    "    \"\"\"\n",
    "    Binarizes a 3D lung image using a specified threshold value.\n",
    "\n",
    "    Args:\n",
    "    img_3d (numpy.ndarray): The input 3D lung image.\n",
    "    threshold_val (int): The threshold value for binarization.\n",
    "\n",
    "    Returns:\n",
    "    numpy.ndarray: The binarized 3D lung image.\n",
    "\n",
    "    Raises:\n",
    "    Exception: If the input image is not 3-dimensional.\n",
    "    \"\"\"\n",
    "    if len(img_3d.shape) != 3:\n",
    "        raise Exception(\"Shape has to be 3 dimensional\")\n",
    "    return process_slices(img_3d, 0, binarize_lung)\n",
    "\n",
    "def debugger(img, title=None):\n",
    "    \"\"\"\n",
    "    Displays an image with its unique intensity values and an optional title.\n",
    "\n",
    "    Args:\n",
    "    img (numpy.ndarray): The image to be displayed, represented as a 2D array.\n",
    "    title (str, optional): The title to be printed above the image. Default is None.\n",
    "\n",
    "    Returns:\n",
    "    None\n",
    "    \"\"\"\n",
    "    if title is not None:\n",
    "        print(title)\n",
    "    print(np.unique(img))\n",
    "    plt.imshow(img, cmap=\"gray\")\n",
    "    plt.axis('off')  # Turn off axis ticks and labels\n",
    "    plt.show()"
   ]
  },
  {
   "cell_type": "code",
   "execution_count": null,
   "metadata": {
    "colab": {
     "base_uri": "https://localhost:8080/",
     "height": 1000,
     "output_embedded_package_id": "1wtPWsZ7C6nFSwxq3W8xVXKz_MF2KjTbi"
    },
    "executionInfo": {
     "elapsed": 111447,
     "status": "ok",
     "timestamp": 1718016965602,
     "user": {
      "displayName": "Áron B. Gimesi",
      "userId": "03233526977624235264"
     },
     "user_tz": -120
    },
    "id": "qAi8d3lOIibZ",
    "outputId": "f562c9a2-be0a-427f-b12d-a92ccd266abe"
   },
   "outputs": [
    {
     "data": {
      "text/plain": [
       "Output hidden; open in https://colab.research.google.com to view."
      ]
     },
     "metadata": {},
     "output_type": "display_data"
    }
   ],
   "source": [
    "for i in range(len(filename_keys_flat)):\n",
    "  img = img_by_uid(filename_keys_flat[i], image_dict)\n",
    "  print(f\"i: {i}\")\n",
    "  print(f\"uid: {filename_keys_flat[i]}\")\n",
    "  mask, centers = create_annotations_mask_by_uid(filename_keys_flat[i], image_dict)\n",
    "  print(centers)\n",
    "  slice_i = centers[0][0]\n",
    "\n",
    "  im = img_by_uid(filename_keys_flat[i], image_dict)[slice_i,:,:]\n",
    "  im[im<AIR_TH] = AIR_TH\n",
    "  debugger(im)\n",
    "\n",
    "\n",
    "  lung_mask = binarize_lung(im, debug=True)\n",
    "\n",
    "  masked = im.copy()\n",
    "  masked[lung_mask==False] = AIR_TH\n",
    "\n",
    "  debugger(masked)"
   ]
  },
  {
   "cell_type": "code",
   "execution_count": null,
   "metadata": {
    "colab": {
     "base_uri": "https://localhost:8080/",
     "height": 176
    },
    "executionInfo": {
     "elapsed": 38,
     "status": "error",
     "timestamp": 1718015458179,
     "user": {
      "displayName": "Áron B. Gimesi",
      "userId": "03233526977624235264"
     },
     "user_tz": -120
    },
    "id": "YUUPMspZW2Jr",
    "outputId": "a9c358fb-94c3-4ab2-9f40-9302cead149b"
   },
   "outputs": [],
   "source": [
    "i = 26\n",
    "img = img_by_uid(filename_keys_flat[i], image_dict)\n",
    "filename_keys_flat[i]"
   ]
  },
  {
   "cell_type": "code",
   "execution_count": null,
   "metadata": {
    "id": "v9zU5SmYWqZR"
   },
   "outputs": [],
   "source": [
    "mask, centers = create_annotations_mask_by_uid(filename_keys_flat[i], image_dict)\n",
    "print(centers)\n",
    "\n",
    "slice_i = centers[0][0]\n",
    "\n",
    "plt.imshow((img[slice_i,:,:]))\n",
    "plt.show()\n",
    "plt.imshow(binarize_lung(img_by_uid(filename_keys_flat[i], image_dict)[slice_i,:,:], debug=True))\n"
   ]
  },
  {
   "cell_type": "code",
   "execution_count": null,
   "metadata": {
    "id": "SiXrhTrDrwue"
   },
   "outputs": [],
   "source": [
    "# plot_slices(get_slices(img, 0))\n",
    "# plot_slices(get_slices(lung_mask_3d(img), 0))"
   ]
  },
  {
   "cell_type": "code",
   "execution_count": null,
   "metadata": {
    "id": "7bNwLgoHWzLf"
   },
   "outputs": [],
   "source": [
    "img.shape"
   ]
  },
  {
   "cell_type": "code",
   "execution_count": null,
   "metadata": {
    "id": "c-s2_6p_XgVq"
   },
   "outputs": [],
   "source": [
    "pairs = []\n",
    "\n",
    "images = get_slices(img, 0)\n",
    "lung_masks = get_slices(lung_mask_3d(img), 0)\n",
    "\n",
    "for i in range(len(images)):\n",
    "  pairs.append(images[i])\n",
    "  pairs.append(lung_masks[i])\n",
    "\n",
    "plot_slices(pairs)"
   ]
  },
  {
   "cell_type": "markdown",
   "metadata": {
    "id": "H9hGkHVaW58Y"
   },
   "source": [
    "__________"
   ]
  },
  {
   "cell_type": "code",
   "execution_count": null,
   "metadata": {
    "id": "4dHzZZcZaKgc"
   },
   "outputs": [],
   "source": [
    "annotation_masks = []\n",
    "lung_masks = []\n",
    "ims = []\n",
    "\n",
    "for i, key in enumerate(filename_keys_flat):\n",
    "  print(\"Centers\")\n",
    "  print(i)\n",
    "\n",
    "  img = img_by_uid(key, image_dict)\n",
    "  annotations = annotations_by_uid(key, ANNOTATIONS_DF)\n",
    "  mask, centers = create_annotations_mask_by_uid(key, image_dict)\n",
    "  print(centers)\n",
    "\n",
    "  #print(np.unique(mask[centers[0][0], :, :]))\n",
    "\n",
    "  slice_i = centers[0][0] if len(centers) else int(img.shape[0] / 2)\n",
    "  ims.append(img[slice_i, :, :])\n",
    "\n",
    "\n",
    "  l_mask = lung_mask(img[slice_i, :, :])\n",
    "  segmented = l_mask * img[slice_i,:,:]\n",
    "  annotation_masks.append(mask[slice_i, :, :])\n",
    "  lung_masks.append(l_mask)"
   ]
  },
  {
   "cell_type": "code",
   "execution_count": null,
   "metadata": {
    "id": "__YgY2bxTnEi"
   },
   "outputs": [],
   "source": [
    "# pairs = []\n",
    "\n",
    "for i, key in enumerate(filename_keys_flat):\n",
    "  im = ims[i]\n",
    "  # pairs.append(im.copy())\n",
    "\n",
    "  # pairs.append(lung_masks[i])\n",
    "\n",
    "  im[~lung_masks[i]] = im.min()\n",
    "  # pairs.append(im)\n",
    "\n",
    "  show_3_images([im.copy(), lung_masks[i], im])\n",
    "# plot_slices(pairs, titles=True, cols=3)"
   ]
  }
 ],
 "metadata": {
  "colab": {
   "authorship_tag": "ABX9TyMLEPEs+/g3/zIKcK+F7Ty3",
   "provenance": []
  },
  "kernelspec": {
   "display_name": "Python 3",
   "name": "python3"
  },
  "language_info": {
   "name": "python"
  }
 },
 "nbformat": 4,
 "nbformat_minor": 0
}
